{
    "cells": [
        {
            "cell_type": "markdown",
            "metadata": {},
            "source": [
                "# 主成分分析 演習問題 - 解答・解説"
            ]
        },
        {
            "cell_type": "markdown",
            "metadata": {},
            "source": [
                "このNotebookは、講義で提示された演習問題に対する解答と解説を記載したものです。\\n\\n- **問1**: 主成分分析の実行と寄与率の確認\\n- **問2**: 主成分の解釈と顧客の可視化"
            ]
        },
        {
            "cell_type": "markdown",
            "metadata": {},
            "source": [
                "## 0. 準備：ライブラリのインポート"
            ]
        },
        {
            "cell_type": "code",
            "execution_count": null,
            "metadata": {},
            "outputs": [],
            "source": [
                "import pandas as pd\nimport numpy as np\nimport matplotlib.pyplot as plt\nimport seaborn as sns\nfrom sklearn.preprocessing import StandardScaler\nfrom sklearn.decomposition import PCA\n\n# グラフのスタイル設定\nsns.set_style('whitegrid')\nplt.rcParams['font.family'] = 'Hiragino Sans'\nplt.rcParams['figure.figsize'] = [10, 6]"
            ]
        },
        {
            "cell_type": "markdown",
            "metadata": {},
            "source": [
                "---"
            ]
        },
        {
            "cell_type": "markdown",
            "metadata": {},
            "source": [
                "## 問1：主成分分析の実行と寄与率の確認"
            ]
        },
        {
            "cell_type": "markdown",
            "metadata": {},
            "source": [
                "### 1-1. データの読み込みと確認"
            ]
        },
        {
            "cell_type": "code",
            "execution_count": null,
            "metadata": {},
            "outputs": [],
            "source": [
                "# データの読み込み\ndf = pd.read_csv('sample_data.csv')\n\n# データの先頭5行を表示\ndf.head()"
            ]
        },
        {
            "cell_type": "code",
            "execution_count": null,
            "metadata": {},
            "outputs": [],
            "source": [
                "# データの基本情報を確認\ndf.info()"
            ]
        },
        {
            "cell_type": "markdown",
            "metadata": {},
            "source": [
                "### 1-2. 分析対象のデータの選択と標準化"
            ]
        },
        {
            "cell_type": "code",
            "execution_count": null,
            "metadata": {},
            "outputs": [],
            "source": [
                "# customer_id列を除外して、分析対象のデータを準備\nX = df.drop('customer_id', axis=1)\n\n# 標準化の実行\nscaler = StandardScaler()\nX_scaled = scaler.fit_transform(X)\n\n# 標準化後のデータを確認（平均が0、分散が1に近くなっている）\nprint('標準化後の平均:', X_scaled.mean(axis=0)) \nprint('標準化後の分散:', X_scaled.var(axis=0))"
            ]
        },
        {
            "cell_type": "markdown",
            "metadata": {},
            "source": [
                "### 1-3 & 1-4. 主成分分析の実行と寄与率の計算"
            ]
        },
        {
            "cell_type": "code",
            "execution_count": null,
            "metadata": {},
            "outputs": [],
            "source": [
                "# 主成分分析の実行 (n_componentsを指定しないと、変数の数だけ主成分が作成される)\npca = PCA()\npca.fit(X_scaled)\n\n# 寄与率を計算\nexplained_variance_ratio = pca.explained_variance_ratio_\n\n# 累積寄与率を計算\ncumulative_explained_variance_ratio = np.cumsum(explained_variance_ratio)\n\n# 結果をDataFrameで表示\npca_result_df = pd.DataFrame({\n    'PC': [f'PC{i+1}' for i in range(len(explained_variance_ratio))],\n    'Contribution Ratio': explained_variance_ratio,\n    'Cumulative Contribution Ratio': cumulative_explained_variance_ratio\n})\n\npca_result_df"
            ]
        },
        {
            "cell_type": "markdown",
            "metadata": {},
            "source": [
                "### 1-5. スクリープロットの作成"
            ]
        },
        {
            "cell_type": "code",
            "execution_count": null,
            "metadata": {},
            "outputs": [],
            "source": [
                "fig, ax1 = plt.subplots(figsize=(12, 7))\n\n# 棒グラフ（寄与率）\nsns.barplot(x=pca_result_df['PC'], y=pca_result_df['Contribution Ratio'], color=sns.color_palette()[0], ax=ax1, label='寄与率')\nax1.set_ylabel('寄与率')\nax1.set_ylim(0, 1)\n\n# 折れ線グラフ（累積寄与率）\nax2 = ax1.twinx()\nsns.lineplot(x=pca_result_df['PC'], y=pca_result_df['Cumulative Contribution Ratio'], color=sns.color_palette()[1], marker='o', ax=ax2, label='累積寄与率')\nax2.set_ylabel('累積寄与率')\nax2.set_ylim(0, 1.05)\n\n# 80%のラインを追加\nax2.axhline(0.8, ls='--', color='red', label='80%ライン')\n\nplt.title('スクリープロット')\nfig.legend(loc='upper right', bbox_to_anchor=(0.9, 0.9))\nplt.show()"
            ]
        },
        {
            "cell_type": "markdown",
            "metadata": {},
            "source": [
                "### 1-6. 解答\n\n上記の表とグラフから、累積寄与率は第2主成分(PC2)の時点で約85%となり、80%の基準を超えていることがわかります。\\n\nしたがって、**第2主成分まで採用すれば、元のデータが持つ情報の約85%を説明できる**と言えます。"
            ]
        },
        {
            "cell_type": "markdown",
            "metadata": {},
            "source": [
                "---"
            ]
        },
        {
            "cell_type": "markdown",
            "metadata": {},
            "source": [
                "## 問2：主成分の解釈と顧客の可視化"
            ]
        },
        {
            "cell_type": "markdown",
            "metadata": {},
            "source": [
                "問1の結果から、今回は第2主成分までを採用して分析を進めます。"
            ]
        },
        {
            "cell_type": "markdown",
            "metadata": {},
            "source": [
                "### 2-1 & 2-2. 主成分負荷量の算出と可視化"
            ]
        },
        {
            "cell_type": "code",
            "execution_count": null,
            "metadata": {},
            "outputs": [],
            "source": [
                "# 主成分負荷量を計算\n# 主成分負荷量 = 固有ベクトル * (主成分の標準偏差の平方根)\n# scikit-learnのPCAでは、主成分の分散は`explained_variance_`に格納されている\n\nloadings = pca.components_.T * np.sqrt(pca.explained_variance_)\n\n# DataFrameに変換\nloadings_df = pd.DataFrame(loadings, index=X.columns, columns=[f'PC{i+1}' for i in range(len(X.columns))])\n\n# 第1, 第2主成分の負荷量をヒートマップで可視化\nplt.figure(figsize=(8, 6))\nsns.heatmap(loadings_df[['PC1', 'PC2']], annot=True, cmap='coolwarm', fmt='.2f')\nplt.title('主成分負荷量 (PC1 & PC2)')\nplt.show()"
            ]
        },
        {
            "cell_type": "markdown",
            "metadata": {},
            "source": [
                "### 2-3. 解答：各主成分の意味の考察\n\nヒートマップを見ると、各主成分と元の変数の相関関係がわかります。\n\n- **第1主成分 (PC1)**:\n  - `quality`, `design`, `support`, `store_cleanliness`, `purchase_amount`, `frequency` の値が**正に大きい**（赤色が濃い）。\n  - 一方で `price` の値が**負に大きい**（青色が濃い）。\n  - これは、「品質やデザイン、サポートが良く、店舗も綺麗で、たくさん購入してくれる顧客」ほどPC1のスコアが高くなり、「価格満足度が高い（＝価格に敏感な）顧客」ほどスコアが低くなる傾向を示唆しています。\n  - したがって、**PC1は「総合的なロイヤルティ（顧客の質）」軸**と解釈できます。右に行くほど優良顧客、左に行くほど価格重視の顧客となります。\n\n- **第2主成分 (PC2)**:\n  - `price` の値が**正に大きい**。\n  - `purchase_amount`, `frequency` の値も正だが、`price`ほどではない。\n  - `quality`, `design`, `support`, `store_cleanliness` の値は負になっている。\n  - PC2のスコアが高い顧客は、「価格満足度が高い」が、「品質やデザインなどの付加価値」はあまり重視していない層と考えられます。\n  - したがって、**PC2は「価格志向 vs 品質・付加価値志向」軸**と解釈できます。上に行くほど価格を重視し、下に行くほど品質などを重視する顧客となります。"
            ]
        },
        {
            "cell_type": "markdown",
            "metadata": {},
            "source": [
                "### 2-4 & 2-5. 主成分スコアの算出と可視化"
            ]
        },
        {
            "cell_type": "code",
            "execution_count": null,
            "metadata": {},
            "outputs": [],
            "source": [
                "# n_components=2で再度PCAを実行し、主成分スコアを計算\npca = PCA(n_components=2)\nscore = pca.fit_transform(X_scaled)\n\n# DataFrameに変換\nscore_df = pd.DataFrame(score, columns=['PC1', 'PC2'])\n\n# 散布図で可視化\nplt.figure(figsize=(12, 8))\nsns.scatterplot(x='PC1', y='PC2', data=score_df)\nplt.title('主成分スコアの散布図')\nplt.xlabel('PC1: 総合的なロイヤルティ軸')\nplt.ylabel('PC2: 価格志向 vs 品質志向 軸')\n\n# 軸を追加\nplt.axhline(0, color='grey', linestyle='--', linewidth=0.8)\nplt.axvline(0, color='grey', linestyle='--', linewidth=0.8)\n\nplt.show()"
            ]
        },
        {
            "cell_type": "markdown",
            "metadata": {},
            "source": [
                "### 2-6. 解答：顧客分布の考察\n\n作成した散布図から、顧客をいくつかのグループに分けて特徴を考えることができます。\n\n- **右下のクラスター (PC1: 正, PC2: 負)**\n  - 「総合的なロイヤルティ」が高く、「品質・付加価値」を重視する層。\n  - いわゆる**「優良顧客層」**や**「ファン顧客」**と言えるグループです。高価格帯でも品質やサポートを理由に購入してくれる可能性が高いです。\n\n- **左上のクラスター (PC1: 負, PC2: 正)**\n  - 「総合的なロイヤルティ」が低く、「価格」を強く重視する層。\n  - **「価格重視層」**や**「セールハンター」**と言えるグループです。割引やキャンペーンに強く反応する可能性があります。\n\n- **中央付近のクラスター**\n  - 特定の嗜好が強くなく、バランスの取れた顧客層。\n  - **「一般顧客層」**と考えられます。\n\nこのように、主成分分析を用いることで、多角的なアンケート結果を2つの軸に集約し、顧客のセグメンテーション（グループ分け）や特徴把握に繋げることができます。"
            ]
        }
    ]
}